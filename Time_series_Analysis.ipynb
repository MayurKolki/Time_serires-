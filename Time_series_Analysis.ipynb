{
 "cells": [
  {
   "cell_type": "markdown",
   "metadata": {},
   "source": [
    "# Time series Analysis"
   ]
  },
  {
   "cell_type": "code",
   "execution_count": 1,
   "metadata": {},
   "outputs": [],
   "source": [
    "import pandas as pd\n",
    "import numpy as np\n",
    "import matplotlib.pyplot as plt"
   ]
  },
  {
   "cell_type": "code",
   "execution_count": 2,
   "metadata": {},
   "outputs": [],
   "source": [
    "#ADF (augmented dickey-fuller test)\n",
    "from statsmodels.tsa.stattools import adfuller,acf,pacf"
   ]
  },
  {
   "cell_type": "code",
   "execution_count": 3,
   "metadata": {},
   "outputs": [],
   "source": [
    "#Ljung-Box test\n",
    "import statsmodels.api as sm"
   ]
  },
  {
   "cell_type": "code",
   "execution_count": 4,
   "metadata": {},
   "outputs": [],
   "source": [
    "#ARIMA model\n",
    "\n",
    "from statsmodels.tsa.arima_model import ARIMA"
   ]
  },
  {
   "cell_type": "code",
   "execution_count": 5,
   "metadata": {},
   "outputs": [],
   "source": [
    "#read the input file \n",
    "path =\"C:/Users/mayur/Desktop/datascience DELL/data analyst vedios/r language/machine learning/mrf.csv\"\n",
    "stock=pd.read_csv(path)"
   ]
  },
  {
   "cell_type": "code",
   "execution_count": 6,
   "metadata": {},
   "outputs": [
    {
     "data": {
      "text/html": [
       "<div>\n",
       "<style scoped>\n",
       "    .dataframe tbody tr th:only-of-type {\n",
       "        vertical-align: middle;\n",
       "    }\n",
       "\n",
       "    .dataframe tbody tr th {\n",
       "        vertical-align: top;\n",
       "    }\n",
       "\n",
       "    .dataframe thead th {\n",
       "        text-align: right;\n",
       "    }\n",
       "</style>\n",
       "<table border=\"1\" class=\"dataframe\">\n",
       "  <thead>\n",
       "    <tr style=\"text-align: right;\">\n",
       "      <th></th>\n",
       "      <th>Month</th>\n",
       "      <th>Open Price</th>\n",
       "      <th>High Price</th>\n",
       "      <th>Low Price</th>\n",
       "      <th>Close Price</th>\n",
       "      <th>No.of Shares</th>\n",
       "      <th>No. of Trades</th>\n",
       "      <th>Total Turnover (Rs.)</th>\n",
       "      <th>Deliverable Quantity</th>\n",
       "      <th>% Deli. Qty to Traded Qty</th>\n",
       "      <th>Spread High-Low</th>\n",
       "      <th>Spread Close-Open</th>\n",
       "    </tr>\n",
       "  </thead>\n",
       "  <tbody>\n",
       "    <tr>\n",
       "      <th>0</th>\n",
       "      <td>Jan-06</td>\n",
       "      <td>2780.0</td>\n",
       "      <td>2895.5</td>\n",
       "      <td>2670.0</td>\n",
       "      <td>2811.60</td>\n",
       "      <td>39623</td>\n",
       "      <td>3358</td>\n",
       "      <td>109309329</td>\n",
       "      <td>27061</td>\n",
       "      <td>68.30</td>\n",
       "      <td>225.5</td>\n",
       "      <td>31.60</td>\n",
       "    </tr>\n",
       "    <tr>\n",
       "      <th>1</th>\n",
       "      <td>Feb-06</td>\n",
       "      <td>2820.0</td>\n",
       "      <td>3399.0</td>\n",
       "      <td>2800.0</td>\n",
       "      <td>3056.45</td>\n",
       "      <td>77350</td>\n",
       "      <td>8001</td>\n",
       "      <td>242294622</td>\n",
       "      <td>42901</td>\n",
       "      <td>55.46</td>\n",
       "      <td>599.0</td>\n",
       "      <td>236.45</td>\n",
       "    </tr>\n",
       "    <tr>\n",
       "      <th>2</th>\n",
       "      <td>Mar-06</td>\n",
       "      <td>3075.0</td>\n",
       "      <td>3287.5</td>\n",
       "      <td>3040.0</td>\n",
       "      <td>3103.20</td>\n",
       "      <td>55500</td>\n",
       "      <td>4988</td>\n",
       "      <td>176800378</td>\n",
       "      <td>39229</td>\n",
       "      <td>70.68</td>\n",
       "      <td>247.5</td>\n",
       "      <td>28.20</td>\n",
       "    </tr>\n",
       "    <tr>\n",
       "      <th>3</th>\n",
       "      <td>Apr-06</td>\n",
       "      <td>3160.0</td>\n",
       "      <td>4051.0</td>\n",
       "      <td>3131.0</td>\n",
       "      <td>3456.15</td>\n",
       "      <td>131712</td>\n",
       "      <td>12834</td>\n",
       "      <td>496800616</td>\n",
       "      <td>59934</td>\n",
       "      <td>45.50</td>\n",
       "      <td>920.0</td>\n",
       "      <td>296.15</td>\n",
       "    </tr>\n",
       "    <tr>\n",
       "      <th>4</th>\n",
       "      <td>May-06</td>\n",
       "      <td>3550.0</td>\n",
       "      <td>3650.0</td>\n",
       "      <td>2747.0</td>\n",
       "      <td>2789.80</td>\n",
       "      <td>29158</td>\n",
       "      <td>4432</td>\n",
       "      <td>96482558</td>\n",
       "      <td>18375</td>\n",
       "      <td>63.02</td>\n",
       "      <td>903.0</td>\n",
       "      <td>-760.20</td>\n",
       "    </tr>\n",
       "  </tbody>\n",
       "</table>\n",
       "</div>"
      ],
      "text/plain": [
       "    Month  Open Price  High Price  Low Price  Close Price  No.of Shares  \\\n",
       "0  Jan-06      2780.0      2895.5     2670.0      2811.60         39623   \n",
       "1  Feb-06      2820.0      3399.0     2800.0      3056.45         77350   \n",
       "2  Mar-06      3075.0      3287.5     3040.0      3103.20         55500   \n",
       "3  Apr-06      3160.0      4051.0     3131.0      3456.15        131712   \n",
       "4  May-06      3550.0      3650.0     2747.0      2789.80         29158   \n",
       "\n",
       "   No. of Trades  Total Turnover (Rs.)  Deliverable Quantity  \\\n",
       "0           3358             109309329                 27061   \n",
       "1           8001             242294622                 42901   \n",
       "2           4988             176800378                 39229   \n",
       "3          12834             496800616                 59934   \n",
       "4           4432              96482558                 18375   \n",
       "\n",
       "   % Deli. Qty to Traded Qty  Spread High-Low  Spread Close-Open  \n",
       "0                      68.30            225.5              31.60  \n",
       "1                      55.46            599.0             236.45  \n",
       "2                      70.68            247.5              28.20  \n",
       "3                      45.50            920.0             296.15  \n",
       "4                      63.02            903.0            -760.20  "
      ]
     },
     "execution_count": 6,
     "metadata": {},
     "output_type": "execute_result"
    }
   ],
   "source": [
    "stock.head()"
   ]
  },
  {
   "cell_type": "code",
   "execution_count": 7,
   "metadata": {},
   "outputs": [
    {
     "data": {
      "text/html": [
       "<div>\n",
       "<style scoped>\n",
       "    .dataframe tbody tr th:only-of-type {\n",
       "        vertical-align: middle;\n",
       "    }\n",
       "\n",
       "    .dataframe tbody tr th {\n",
       "        vertical-align: top;\n",
       "    }\n",
       "\n",
       "    .dataframe thead th {\n",
       "        text-align: right;\n",
       "    }\n",
       "</style>\n",
       "<table border=\"1\" class=\"dataframe\">\n",
       "  <thead>\n",
       "    <tr style=\"text-align: right;\">\n",
       "      <th></th>\n",
       "      <th>Close Price</th>\n",
       "    </tr>\n",
       "  </thead>\n",
       "  <tbody>\n",
       "    <tr>\n",
       "      <th>0</th>\n",
       "      <td>2811.60</td>\n",
       "    </tr>\n",
       "    <tr>\n",
       "      <th>1</th>\n",
       "      <td>3056.45</td>\n",
       "    </tr>\n",
       "    <tr>\n",
       "      <th>2</th>\n",
       "      <td>3103.20</td>\n",
       "    </tr>\n",
       "    <tr>\n",
       "      <th>3</th>\n",
       "      <td>3456.15</td>\n",
       "    </tr>\n",
       "    <tr>\n",
       "      <th>4</th>\n",
       "      <td>2789.80</td>\n",
       "    </tr>\n",
       "    <tr>\n",
       "      <th>...</th>\n",
       "      <td>...</td>\n",
       "    </tr>\n",
       "    <tr>\n",
       "      <th>120</th>\n",
       "      <td>35607.10</td>\n",
       "    </tr>\n",
       "    <tr>\n",
       "      <th>121</th>\n",
       "      <td>32429.35</td>\n",
       "    </tr>\n",
       "    <tr>\n",
       "      <th>122</th>\n",
       "      <td>38368.50</td>\n",
       "    </tr>\n",
       "    <tr>\n",
       "      <th>123</th>\n",
       "      <td>33791.60</td>\n",
       "    </tr>\n",
       "    <tr>\n",
       "      <th>124</th>\n",
       "      <td>33759.60</td>\n",
       "    </tr>\n",
       "  </tbody>\n",
       "</table>\n",
       "<p>125 rows × 1 columns</p>\n",
       "</div>"
      ],
      "text/plain": [
       "     Close Price\n",
       "0        2811.60\n",
       "1        3056.45\n",
       "2        3103.20\n",
       "3        3456.15\n",
       "4        2789.80\n",
       "..           ...\n",
       "120     35607.10\n",
       "121     32429.35\n",
       "122     38368.50\n",
       "123     33791.60\n",
       "124     33759.60\n",
       "\n",
       "[125 rows x 1 columns]"
      ]
     },
     "execution_count": 7,
     "metadata": {},
     "output_type": "execute_result"
    }
   ],
   "source": [
    "#take the column to predict \n",
    "mystock  = stock[['Close Price']]\n",
    "mystock"
   ]
  },
  {
   "cell_type": "code",
   "execution_count": 8,
   "metadata": {},
   "outputs": [],
   "source": [
    "#function to check data stationarity\n",
    "def checkstationarity(data):\n",
    "    #adfuller() return the following :\n",
    "    #test statistic,pvalue,lags,total observations\n",
    "    \n",
    "    pval = adfuller(data)[1]\n",
    "    \n",
    "    if pval> 0.05:\n",
    "        msg=\"pvalue = {}. Data not stationary\".format(pval)\n",
    "    else:\n",
    "        msg=\"pvalue = {}. Data  stationary\".format(pval)\n",
    "    return(msg)\n",
    "\n"
   ]
  },
  {
   "cell_type": "code",
   "execution_count": 9,
   "metadata": {},
   "outputs": [
    {
     "data": {
      "text/plain": [
       "'pvalue = 0.9574107029213336. Data not stationary'"
      ]
     },
     "execution_count": 9,
     "metadata": {},
     "output_type": "execute_result"
    }
   ],
   "source": [
    "#check for data stationarity\n",
    "checkstationarity(mystock)"
   ]
  },
  {
   "cell_type": "code",
   "execution_count": 10,
   "metadata": {},
   "outputs": [],
   "source": [
    "#since data is not stationary, it has to be stationary by taking difference\n",
    "diff_mystock = mystock-mystock.shift()"
   ]
  },
  {
   "cell_type": "code",
   "execution_count": 11,
   "metadata": {},
   "outputs": [
    {
     "data": {
      "text/html": [
       "<div>\n",
       "<style scoped>\n",
       "    .dataframe tbody tr th:only-of-type {\n",
       "        vertical-align: middle;\n",
       "    }\n",
       "\n",
       "    .dataframe tbody tr th {\n",
       "        vertical-align: top;\n",
       "    }\n",
       "\n",
       "    .dataframe thead th {\n",
       "        text-align: right;\n",
       "    }\n",
       "</style>\n",
       "<table border=\"1\" class=\"dataframe\">\n",
       "  <thead>\n",
       "    <tr style=\"text-align: right;\">\n",
       "      <th></th>\n",
       "      <th>Close Price</th>\n",
       "    </tr>\n",
       "  </thead>\n",
       "  <tbody>\n",
       "    <tr>\n",
       "      <th>0</th>\n",
       "      <td>NaN</td>\n",
       "    </tr>\n",
       "    <tr>\n",
       "      <th>1</th>\n",
       "      <td>244.85</td>\n",
       "    </tr>\n",
       "    <tr>\n",
       "      <th>2</th>\n",
       "      <td>46.75</td>\n",
       "    </tr>\n",
       "    <tr>\n",
       "      <th>3</th>\n",
       "      <td>352.95</td>\n",
       "    </tr>\n",
       "    <tr>\n",
       "      <th>4</th>\n",
       "      <td>-666.35</td>\n",
       "    </tr>\n",
       "    <tr>\n",
       "      <th>...</th>\n",
       "      <td>...</td>\n",
       "    </tr>\n",
       "    <tr>\n",
       "      <th>120</th>\n",
       "      <td>-4240.50</td>\n",
       "    </tr>\n",
       "    <tr>\n",
       "      <th>121</th>\n",
       "      <td>-3177.75</td>\n",
       "    </tr>\n",
       "    <tr>\n",
       "      <th>122</th>\n",
       "      <td>5939.15</td>\n",
       "    </tr>\n",
       "    <tr>\n",
       "      <th>123</th>\n",
       "      <td>-4576.90</td>\n",
       "    </tr>\n",
       "    <tr>\n",
       "      <th>124</th>\n",
       "      <td>-32.00</td>\n",
       "    </tr>\n",
       "  </tbody>\n",
       "</table>\n",
       "<p>125 rows × 1 columns</p>\n",
       "</div>"
      ],
      "text/plain": [
       "     Close Price\n",
       "0            NaN\n",
       "1         244.85\n",
       "2          46.75\n",
       "3         352.95\n",
       "4        -666.35\n",
       "..           ...\n",
       "120     -4240.50\n",
       "121     -3177.75\n",
       "122      5939.15\n",
       "123     -4576.90\n",
       "124       -32.00\n",
       "\n",
       "[125 rows x 1 columns]"
      ]
     },
     "execution_count": 11,
     "metadata": {},
     "output_type": "execute_result"
    }
   ],
   "source": [
    "mystock-mystock.shift()"
   ]
  },
  {
   "cell_type": "code",
   "execution_count": 12,
   "metadata": {},
   "outputs": [
    {
     "data": {
      "text/plain": [
       "244.8499999999999"
      ]
     },
     "execution_count": 12,
     "metadata": {},
     "output_type": "execute_result"
    }
   ],
   "source": [
    "3056.45-2811.6"
   ]
  },
  {
   "cell_type": "code",
   "execution_count": 13,
   "metadata": {},
   "outputs": [
    {
     "name": "stdout",
     "output_type": "stream",
     "text": [
      "Before deleting NA. count = 125\n"
     ]
    }
   ],
   "source": [
    "\n",
    "print(\"Before deleting NA. count =\",len(diff_mystock))"
   ]
  },
  {
   "cell_type": "code",
   "execution_count": 14,
   "metadata": {},
   "outputs": [],
   "source": [
    "#drop NA from the dataset\n",
    "diff_mystock.dropna(inplace=True)"
   ]
  },
  {
   "cell_type": "code",
   "execution_count": 15,
   "metadata": {},
   "outputs": [
    {
     "name": "stdout",
     "output_type": "stream",
     "text": [
      "After deleting NA. count = 124\n"
     ]
    }
   ],
   "source": [
    "print(\"After deleting NA. count =\",len(diff_mystock))"
   ]
  },
  {
   "cell_type": "code",
   "execution_count": 16,
   "metadata": {},
   "outputs": [
    {
     "name": "stdout",
     "output_type": "stream",
     "text": [
      "     Close Price\n",
      "1         244.85\n",
      "2          46.75\n",
      "3         352.95\n",
      "4        -666.35\n",
      "5        -393.95\n",
      "..           ...\n",
      "120     -4240.50\n",
      "121     -3177.75\n",
      "122      5939.15\n",
      "123     -4576.90\n",
      "124       -32.00\n",
      "\n",
      "[124 rows x 1 columns]\n"
     ]
    }
   ],
   "source": [
    "#verify the drop\n",
    "print(diff_mystock)"
   ]
  },
  {
   "cell_type": "code",
   "execution_count": 17,
   "metadata": {},
   "outputs": [
    {
     "data": {
      "text/plain": [
       "'pvalue = 5.060193512253538e-23. Data  stationary'"
      ]
     },
     "execution_count": 17,
     "metadata": {},
     "output_type": "execute_result"
    }
   ],
   "source": [
    "#check for data stationarity\n",
    "checkstationarity(diff_mystock)"
   ]
  },
  {
   "cell_type": "code",
   "execution_count": 18,
   "metadata": {},
   "outputs": [],
   "source": [
    "#data has now become stationary\n"
   ]
  },
  {
   "cell_type": "code",
   "execution_count": 19,
   "metadata": {},
   "outputs": [
    {
     "data": {
      "text/plain": [
       "Text(0.5, 1.0, 'Differenced Closed Price')"
      ]
     },
     "execution_count": 19,
     "metadata": {},
     "output_type": "execute_result"
    },
    {
     "data": {
      "image/png": "[encoded data removed]",
      "text/plain": [
       "<Figure size 432x288 with 2 Axes>"
      ]
     },
     "metadata": {
      "needs_background": "light"
     },
     "output_type": "display_data"
    }
   ],
   "source": [
    "#plot the actual and stationary data\n",
    "plt.subplot(121)\n",
    "plt.plot(mystock,color='red')\n",
    "plt.title(\"Actual Close Price\")\n",
    "\n",
    "plt.subplot(122)\n",
    "plt.plot(diff_mystock,color='green')\n",
    "plt.title('Differenced Closed Price')\n"
   ]
  },
  {
   "cell_type": "code",
   "execution_count": 20,
   "metadata": {},
   "outputs": [
    {
     "data": {
      "text/plain": [
       "Text(0.5, 1.0, 'Differenced Closed Price')"
      ]
     },
     "execution_count": 20,
     "metadata": {},
     "output_type": "execute_result"
    },
    {
     "data": {
      "image/png": "[encoded data removed]",
      "text/plain": [
       "<Figure size 432x288 with 1 Axes>"
      ]
     },
     "metadata": {
      "needs_background": "light"
     },
     "output_type": "display_data"
    }
   ],
   "source": [
    "plt.subplot(122)\n",
    "plt.plot(diff_mystock,color='green')\n",
    "plt.title('Differenced Closed Price')\n"
   ]
  },
  {
   "cell_type": "code",
   "execution_count": 21,
   "metadata": {},
   "outputs": [
    {
     "name": "stderr",
     "output_type": "stream",
     "text": [
      "C:\\Users\\mayur\\anaconda3\\lib\\site-packages\\statsmodels\\tsa\\stattools.py:572: FutureWarning: fft=True will become the default in a future version of statsmodels. To suppress this warning, explicitly set fft=False.\n",
      "  FutureWarning\n"
     ]
    },
    {
     "data": {
      "text/plain": [
       "Text(0, 0.5, 'Correlation')"
      ]
     },
     "execution_count": 21,
     "metadata": {},
     "output_type": "execute_result"
    },
    {
     "data": {
      "image/png": "[encoded data removed]",
      "text/plain": [
       "<Figure size 432x288 with 2 Axes>"
      ]
     },
     "metadata": {
      "needs_background": "light"
     },
     "output_type": "display_data"
    }
   ],
   "source": [
    "#plot the Correlogram to identify the p and q (lags for AR and MA process)\n",
    "\n",
    "#get the PACF and ACF lag values \n",
    "lags_pacf = pacf(diff_mystock , nlags=20)\n",
    "lags_acf = acf(diff_mystock , nlags=20)\n",
    "\n",
    "#PACF  ->to identify p\n",
    "plt.subplot(121)\n",
    "plt.plot(lags_pacf)\n",
    "plt.axhline(y=0,linestyle=\"-\",color='grey')\n",
    "plt.axhline(y=-1.96/np.sqrt(len(diff_mystock)),linestyle='--',color='red')\n",
    "plt.axhline(y=1.96/np.sqrt(len(diff_mystock)),linestyle='--',color='red')\n",
    "plt.title('PACF')\n",
    "plt.xlabel('Lags')\n",
    "plt.ylabel('Correlation')\n",
    "\n",
    "#ACF  -> to identify q\n",
    "plt.subplot(122)\n",
    "plt.plot(lags_acf)\n",
    "plt.axhline(y=0,linestyle=\"-\",color='grey')\n",
    "plt.axhline(y=-1.96/np.sqrt(len(diff_mystock)),linestyle='--',color='red')\n",
    "plt.axhline(y=1.96/np.sqrt(len(diff_mystock)),linestyle='--',color='red')\n",
    "plt.title('ACF')\n",
    "plt.xlabel('Lags')\n",
    "plt.ylabel('Correlation')\n",
    "\n"
   ]
  },
  {
   "cell_type": "code",
   "execution_count": 22,
   "metadata": {},
   "outputs": [
    {
     "data": {
      "text/plain": [
       "Text(0, 0.5, 'Correlation')"
      ]
     },
     "execution_count": 22,
     "metadata": {},
     "output_type": "execute_result"
    },
    {
     "data": {
      "image/png": "[encoded data removed]",
      "text/plain": [
       "<Figure size 432x288 with 1 Axes>"
      ]
     },
     "metadata": {
      "needs_background": "light"
     },
     "output_type": "display_data"
    }
   ],
   "source": [
    "#ACF  -> to identify q\n",
    "plt.subplot(122)\n",
    "plt.plot(lags_acf)\n",
    "plt.axhline(y=0,linestyle=\"-\",color='grey')\n",
    "plt.axhline(y=-1.96/np.sqrt(len(diff_mystock)),linestyle='--',color='red')\n",
    "plt.axhline(y=1.96/np.sqrt(len(diff_mystock)),linestyle='--',color='red')\n",
    "plt.title('ACF')\n",
    "plt.xlabel('Lags')\n",
    "plt.ylabel('Correlation')\n",
    "\n"
   ]
  },
  {
   "cell_type": "code",
   "execution_count": 23,
   "metadata": {},
   "outputs": [
    {
     "name": "stderr",
     "output_type": "stream",
     "text": [
      "C:\\Users\\mayur\\anaconda3\\lib\\site-packages\\statsmodels\\tsa\\base\\tsa_model.py:214: ValueWarning: An unsupported index was provided and will be ignored when e.g. forecasting.\n",
      "  ' ignored when e.g. forecasting.', ValueWarning)\n"
     ]
    }
   ],
   "source": [
    "p=0; q=0; d=0\n",
    "\n",
    "#Build the ARIMA model \n",
    "m1= ARIMA(diff_mystock,order=(p,d,q)).fit(disp=0)"
   ]
  },
  {
   "cell_type": "code",
   "execution_count": 24,
   "metadata": {},
   "outputs": [
    {
     "data": {
      "text/html": [
       "<table class=\"simpletable\">\n",
       "<caption>ARMA Model Results</caption>\n",
       "<tr>\n",
       "  <th>Dep. Variable:</th>    <td>Close Price</td>   <th>  No. Observations:  </th>    <td>124</td>   \n",
       "</tr>\n",
       "<tr>\n",
       "  <th>Model:</th>            <td>ARMA(0, 0)</td>    <th>  Log Likelihood     </th> <td>-1096.589</td>\n",
       "</tr>\n",
       "<tr>\n",
       "  <th>Method:</th>               <td>css</td>       <th>  S.D. of innovations</th> <td>1676.599</td> \n",
       "</tr>\n",
       "<tr>\n",
       "  <th>Date:</th>          <td>Tue, 06 Apr 2021</td> <th>  AIC                </th> <td>2197.178</td> \n",
       "</tr>\n",
       "<tr>\n",
       "  <th>Time:</th>              <td>22:54:20</td>     <th>  BIC                </th> <td>2202.819</td> \n",
       "</tr>\n",
       "<tr>\n",
       "  <th>Sample:</th>                <td>0</td>        <th>  HQIC               </th> <td>2199.470</td> \n",
       "</tr>\n",
       "<tr>\n",
       "  <th></th>                       <td> </td>        <th>                     </th>     <td> </td>    \n",
       "</tr>\n",
       "</table>\n",
       "<table class=\"simpletable\">\n",
       "<tr>\n",
       "    <td></td>       <th>coef</th>     <th>std err</th>      <th>z</th>      <th>P>|z|</th>  <th>[0.025</th>    <th>0.975]</th>  \n",
       "</tr>\n",
       "<tr>\n",
       "  <th>const</th> <td>  249.5806</td> <td>  150.563</td> <td>    1.658</td> <td> 0.097</td> <td>  -45.517</td> <td>  544.679</td>\n",
       "</tr>\n",
       "</table>"
      ],
      "text/plain": [
       "<class 'statsmodels.iolib.summary.Summary'>\n",
       "\"\"\"\n",
       "                              ARMA Model Results                              \n",
       "==============================================================================\n",
       "Dep. Variable:            Close Price   No. Observations:                  124\n",
       "Model:                     ARMA(0, 0)   Log Likelihood               -1096.589\n",
       "Method:                           css   S.D. of innovations           1676.599\n",
       "Date:                Tue, 06 Apr 2021   AIC                           2197.178\n",
       "Time:                        22:54:20   BIC                           2202.819\n",
       "Sample:                             0   HQIC                          2199.470\n",
       "                                                                              \n",
       "==============================================================================\n",
       "                 coef    std err          z      P>|z|      [0.025      0.975]\n",
       "------------------------------------------------------------------------------\n",
       "const        249.5806    150.563      1.658      0.097     -45.517     544.679\n",
       "==============================================================================\n",
       "\"\"\""
      ]
     },
     "execution_count": 24,
     "metadata": {},
     "output_type": "execute_result"
    }
   ],
   "source": [
    "m1.summary()"
   ]
  },
  {
   "cell_type": "code",
   "execution_count": 25,
   "metadata": {},
   "outputs": [
    {
     "data": {
      "text/plain": [
       "Text(0.5, 1.0, 'ARIMA model residuals')"
      ]
     },
     "execution_count": 25,
     "metadata": {},
     "output_type": "execute_result"
    },
    {
     "data": {
      "image/png": "[encoded data removed]",
      "text/plain": [
       "<Figure size 432x288 with 1 Axes>"
      ]
     },
     "metadata": {
      "needs_background": "light"
     },
     "output_type": "display_data"
    }
   ],
   "source": [
    "#LJung-Box test to check the model goodness (error should have white noise )\n",
    "plt.hist(m1.resid)\n",
    "plt.title('ARIMA model residuals')"
   ]
  },
  {
   "cell_type": "code",
   "execution_count": 26,
   "metadata": {},
   "outputs": [
    {
     "name": "stderr",
     "output_type": "stream",
     "text": [
      "C:\\Users\\mayur\\anaconda3\\lib\\site-packages\\statsmodels\\stats\\diagnostic.py:524: FutureWarning: The value returned will change to a single DataFrame after 0.12 is released.  Set return_df to True to use to return a DataFrame now.  Set return_df to False to silence this warning.\n",
      "  warnings.warn(msg, FutureWarning)\n"
     ]
    }
   ],
   "source": [
    "#LJung-Box test to check the model goodness\n",
    "#H0: residuals are independently distributed\n",
    "#H1: residuals are independently distributed \n",
    "\n",
    "pvalue = sm.stats.acorr_ljungbox(m1.resid,lags=[1])[1]\n",
    "\n"
   ]
  },
  {
   "cell_type": "code",
   "execution_count": 27,
   "metadata": {},
   "outputs": [
    {
     "name": "stdout",
     "output_type": "stream",
     "text": [
      "FTR H0: Residuals are independently distributed\n"
     ]
    }
   ],
   "source": [
    "if  pvalue > 0.05:\n",
    "    print(\"FTR H0: Residuals are independently distributed\")\n",
    "else:\n",
    "    print(\"Reject H0: Residuals are not independently distributed\")\n",
    "    "
   ]
  },
  {
   "cell_type": "code",
   "execution_count": 28,
   "metadata": {},
   "outputs": [
    {
     "data": {
      "text/plain": [
       "(array([249.58064516, 249.58064516, 249.58064516, 249.58064516,\n",
       "        249.58064516, 249.58064516, 249.58064516, 249.58064516,\n",
       "        249.58064516, 249.58064516, 249.58064516, 249.58064516]),\n",
       " array([1676.5990858, 1676.5990858, 1676.5990858, 1676.5990858,\n",
       "        1676.5990858, 1676.5990858, 1676.5990858, 1676.5990858,\n",
       "        1676.5990858, 1676.5990858, 1676.5990858, 1676.5990858]),\n",
       " array([[-3036.49317952,  3535.65446984],\n",
       "        [-3036.49317952,  3535.65446984],\n",
       "        [-3036.49317952,  3535.65446984],\n",
       "        [-3036.49317952,  3535.65446984],\n",
       "        [-3036.49317952,  3535.65446984],\n",
       "        [-3036.49317952,  3535.65446984],\n",
       "        [-3036.49317952,  3535.65446984],\n",
       "        [-3036.49317952,  3535.65446984],\n",
       "        [-3036.49317952,  3535.65446984],\n",
       "        [-3036.49317952,  3535.65446984],\n",
       "        [-3036.49317952,  3535.65446984],\n",
       "        [-3036.49317952,  3535.65446984]]))"
      ]
     },
     "execution_count": 28,
     "metadata": {},
     "output_type": "execute_result"
    }
   ],
   "source": [
    "#forecast for the next 12 months \n",
    "f1=m1.forecast(steps=12)\n",
    "f1"
   ]
  },
  {
   "cell_type": "code",
   "execution_count": 29,
   "metadata": {},
   "outputs": [
    {
     "name": "stdout",
     "output_type": "stream",
     "text": [
      "[249.58064516 249.58064516 249.58064516 249.58064516 249.58064516\n",
      " 249.58064516 249.58064516 249.58064516 249.58064516 249.58064516\n",
      " 249.58064516 249.58064516]\n"
     ]
    },
    {
     "data": {
      "text/plain": [
       "12"
      ]
     },
     "execution_count": 29,
     "metadata": {},
     "output_type": "execute_result"
    }
   ],
   "source": [
    "#the actual forecasted values are the first set of values in the output\n",
    "forecast = f1[0]\n",
    "print(forecast)\n",
    "len(forecast)"
   ]
  },
  {
   "cell_type": "code",
   "execution_count": null,
   "metadata": {},
   "outputs": [],
   "source": []
  },
  {
   "cell_type": "code",
   "execution_count": null,
   "metadata": {},
   "outputs": [],
   "source": []
  },
  {
   "cell_type": "code",
   "execution_count": null,
   "metadata": {},
   "outputs": [],
   "source": []
  },
  {
   "cell_type": "code",
   "execution_count": null,
   "metadata": {},
   "outputs": [],
   "source": []
  },
  {
   "cell_type": "code",
   "execution_count": null,
   "metadata": {},
   "outputs": [],
   "source": []
  },
  {
   "cell_type": "code",
   "execution_count": null,
   "metadata": {},
   "outputs": [],
   "source": []
  },
  {
   "cell_type": "code",
   "execution_count": null,
   "metadata": {},
   "outputs": [],
   "source": []
  },
  {
   "cell_type": "code",
   "execution_count": null,
   "metadata": {},
   "outputs": [],
   "source": []
  }
 ],
 "metadata": {
  "kernelspec": {
   "display_name": "Python 3",
   "language": "python",
   "name": "python3"
  },
  "language_info": {
   "codemirror_mode": {
    "name": "ipython",
    "version": 3
   },
   "file_extension": ".py",
   "mimetype": "text/x-python",
   "name": "python",
   "nbconvert_exporter": "python",
   "pygments_lexer": "ipython3",
   "version": "3.7.10"
  }
 },
 "nbformat": 4,
 "nbformat_minor": 4
}
